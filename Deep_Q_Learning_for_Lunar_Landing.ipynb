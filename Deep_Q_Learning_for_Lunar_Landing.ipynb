{
  "cells": [
    {
      "cell_type": "markdown",
      "metadata": {
        "id": "view-in-github",
        "colab_type": "text"
      },
      "source": [
        "<a href=\"https://colab.research.google.com/github/anandkaranubc/deep_q/blob/main/Deep_Q_Learning_for_Lunar_Landing.ipynb\" target=\"_parent\"><img src=\"https://colab.research.google.com/assets/colab-badge.svg\" alt=\"Open In Colab\"/></a>"
      ]
    },
    {
      "cell_type": "markdown",
      "metadata": {
        "id": "LbZcI9ZXHl3a"
      },
      "source": [
        "# Deep Q-Learning for Lunar Landing"
      ]
    },
    {
      "cell_type": "markdown",
      "metadata": {
        "id": "E8yPRjteXgPb"
      },
      "source": [
        "## Part 0 - Installing the required packages and importing the libraries"
      ]
    },
    {
      "cell_type": "markdown",
      "metadata": {
        "id": "slEm5teGWjWU"
      },
      "source": [
        "### Installing Gymnasium"
      ]
    },
    {
      "cell_type": "code",
      "execution_count": null,
      "metadata": {
        "id": "dbnq3XpoKa_7",
        "colab": {
          "base_uri": "https://localhost:8080/"
        },
        "outputId": "4315c340-216f-4125-9f1a-1760ca94bf84"
      },
      "outputs": [
        {
          "output_type": "stream",
          "name": "stdout",
          "text": [
            "Collecting gymnasium\n",
            "  Downloading gymnasium-0.29.1-py3-none-any.whl (953 kB)\n",
            "\u001b[2K     \u001b[90m━━━━━━━━━━━━━━━━━━━━━━━━━━━━━━━━━━━━━━━━\u001b[0m \u001b[32m953.9/953.9 kB\u001b[0m \u001b[31m6.0 MB/s\u001b[0m eta \u001b[36m0:00:00\u001b[0m\n",
            "\u001b[?25hRequirement already satisfied: numpy>=1.21.0 in /usr/local/lib/python3.10/dist-packages (from gymnasium) (1.25.2)\n",
            "Requirement already satisfied: cloudpickle>=1.2.0 in /usr/local/lib/python3.10/dist-packages (from gymnasium) (2.2.1)\n",
            "Requirement already satisfied: typing-extensions>=4.3.0 in /usr/local/lib/python3.10/dist-packages (from gymnasium) (4.12.2)\n",
            "Collecting farama-notifications>=0.0.1 (from gymnasium)\n",
            "  Downloading Farama_Notifications-0.0.4-py3-none-any.whl (2.5 kB)\n",
            "Installing collected packages: farama-notifications, gymnasium\n",
            "Successfully installed farama-notifications-0.0.4 gymnasium-0.29.1\n",
            "Requirement already satisfied: gymnasium[accept-rom-license,atari] in /usr/local/lib/python3.10/dist-packages (0.29.1)\n",
            "Requirement already satisfied: numpy>=1.21.0 in /usr/local/lib/python3.10/dist-packages (from gymnasium[accept-rom-license,atari]) (1.25.2)\n",
            "Requirement already satisfied: cloudpickle>=1.2.0 in /usr/local/lib/python3.10/dist-packages (from gymnasium[accept-rom-license,atari]) (2.2.1)\n",
            "Requirement already satisfied: typing-extensions>=4.3.0 in /usr/local/lib/python3.10/dist-packages (from gymnasium[accept-rom-license,atari]) (4.12.2)\n",
            "Requirement already satisfied: farama-notifications>=0.0.1 in /usr/local/lib/python3.10/dist-packages (from gymnasium[accept-rom-license,atari]) (0.0.4)\n",
            "Collecting autorom[accept-rom-license]~=0.4.2 (from gymnasium[accept-rom-license,atari])\n",
            "  Downloading AutoROM-0.4.2-py3-none-any.whl (16 kB)\n",
            "Collecting shimmy[atari]<1.0,>=0.1.0 (from gymnasium[accept-rom-license,atari])\n",
            "  Downloading Shimmy-0.2.1-py3-none-any.whl (25 kB)\n",
            "Requirement already satisfied: click in /usr/local/lib/python3.10/dist-packages (from autorom[accept-rom-license]~=0.4.2->gymnasium[accept-rom-license,atari]) (8.1.7)\n",
            "Requirement already satisfied: requests in /usr/local/lib/python3.10/dist-packages (from autorom[accept-rom-license]~=0.4.2->gymnasium[accept-rom-license,atari]) (2.31.0)\n",
            "Requirement already satisfied: tqdm in /usr/local/lib/python3.10/dist-packages (from autorom[accept-rom-license]~=0.4.2->gymnasium[accept-rom-license,atari]) (4.66.4)\n",
            "Collecting AutoROM.accept-rom-license (from autorom[accept-rom-license]~=0.4.2->gymnasium[accept-rom-license,atari])\n",
            "  Downloading AutoROM.accept-rom-license-0.6.1.tar.gz (434 kB)\n",
            "\u001b[2K     \u001b[90m━━━━━━━━━━━━━━━━━━━━━━━━━━━━━━━━━━━━━━━━\u001b[0m \u001b[32m434.7/434.7 kB\u001b[0m \u001b[31m10.9 MB/s\u001b[0m eta \u001b[36m0:00:00\u001b[0m\n",
            "\u001b[?25h  Installing build dependencies ... \u001b[?25l\u001b[?25hdone\n",
            "  Getting requirements to build wheel ... \u001b[?25l\u001b[?25hdone\n",
            "  Preparing metadata (pyproject.toml) ... \u001b[?25l\u001b[?25hdone\n",
            "Collecting ale-py~=0.8.1 (from shimmy[atari]<1.0,>=0.1.0->gymnasium[accept-rom-license,atari])\n",
            "  Downloading ale_py-0.8.1-cp310-cp310-manylinux_2_17_x86_64.manylinux2014_x86_64.whl (1.7 MB)\n",
            "\u001b[2K     \u001b[90m━━━━━━━━━━━━━━━━━━━━━━━━━━━━━━━━━━━━━━━━\u001b[0m \u001b[32m1.7/1.7 MB\u001b[0m \u001b[31m41.0 MB/s\u001b[0m eta \u001b[36m0:00:00\u001b[0m\n",
            "\u001b[?25hRequirement already satisfied: importlib-resources in /usr/local/lib/python3.10/dist-packages (from ale-py~=0.8.1->shimmy[atari]<1.0,>=0.1.0->gymnasium[accept-rom-license,atari]) (6.4.0)\n",
            "Requirement already satisfied: charset-normalizer<4,>=2 in /usr/local/lib/python3.10/dist-packages (from requests->autorom[accept-rom-license]~=0.4.2->gymnasium[accept-rom-license,atari]) (3.3.2)\n",
            "Requirement already satisfied: idna<4,>=2.5 in /usr/local/lib/python3.10/dist-packages (from requests->autorom[accept-rom-license]~=0.4.2->gymnasium[accept-rom-license,atari]) (3.7)\n",
            "Requirement already satisfied: urllib3<3,>=1.21.1 in /usr/local/lib/python3.10/dist-packages (from requests->autorom[accept-rom-license]~=0.4.2->gymnasium[accept-rom-license,atari]) (2.0.7)\n",
            "Requirement already satisfied: certifi>=2017.4.17 in /usr/local/lib/python3.10/dist-packages (from requests->autorom[accept-rom-license]~=0.4.2->gymnasium[accept-rom-license,atari]) (2024.6.2)\n",
            "Building wheels for collected packages: AutoROM.accept-rom-license\n",
            "  Building wheel for AutoROM.accept-rom-license (pyproject.toml) ... \u001b[?25l\u001b[?25hdone\n",
            "  Created wheel for AutoROM.accept-rom-license: filename=AutoROM.accept_rom_license-0.6.1-py3-none-any.whl size=446660 sha256=fa6e6354f7926208cc825e8936d1b4c9130f8febefe34b1b1c48c2ec2914432b\n",
            "  Stored in directory: /root/.cache/pip/wheels/6b/1b/ef/a43ff1a2f1736d5711faa1ba4c1f61be1131b8899e6a057811\n",
            "Successfully built AutoROM.accept-rom-license\n",
            "Installing collected packages: ale-py, shimmy, AutoROM.accept-rom-license, autorom\n",
            "Successfully installed AutoROM.accept-rom-license-0.6.1 ale-py-0.8.1 autorom-0.4.2 shimmy-0.2.1\n",
            "Reading package lists... Done\n",
            "Building dependency tree... Done\n",
            "Reading state information... Done\n",
            "The following additional packages will be installed:\n",
            "  swig4.0\n",
            "Suggested packages:\n",
            "  swig-doc swig-examples swig4.0-examples swig4.0-doc\n",
            "The following NEW packages will be installed:\n",
            "  swig swig4.0\n",
            "0 upgraded, 2 newly installed, 0 to remove and 45 not upgraded.\n",
            "Need to get 1,116 kB of archives.\n",
            "After this operation, 5,542 kB of additional disk space will be used.\n",
            "Get:1 http://archive.ubuntu.com/ubuntu jammy/universe amd64 swig4.0 amd64 4.0.2-1ubuntu1 [1,110 kB]\n",
            "Get:2 http://archive.ubuntu.com/ubuntu jammy/universe amd64 swig all 4.0.2-1ubuntu1 [5,632 B]\n",
            "Fetched 1,116 kB in 1s (1,212 kB/s)\n",
            "Selecting previously unselected package swig4.0.\n",
            "(Reading database ... 121925 files and directories currently installed.)\n",
            "Preparing to unpack .../swig4.0_4.0.2-1ubuntu1_amd64.deb ...\n",
            "Unpacking swig4.0 (4.0.2-1ubuntu1) ...\n",
            "Selecting previously unselected package swig.\n",
            "Preparing to unpack .../swig_4.0.2-1ubuntu1_all.deb ...\n",
            "Unpacking swig (4.0.2-1ubuntu1) ...\n",
            "Setting up swig4.0 (4.0.2-1ubuntu1) ...\n",
            "Setting up swig (4.0.2-1ubuntu1) ...\n",
            "Processing triggers for man-db (2.10.2-1) ...\n",
            "Requirement already satisfied: gymnasium[box2d] in /usr/local/lib/python3.10/dist-packages (0.29.1)\n",
            "Requirement already satisfied: numpy>=1.21.0 in /usr/local/lib/python3.10/dist-packages (from gymnasium[box2d]) (1.25.2)\n",
            "Requirement already satisfied: cloudpickle>=1.2.0 in /usr/local/lib/python3.10/dist-packages (from gymnasium[box2d]) (2.2.1)\n",
            "Requirement already satisfied: typing-extensions>=4.3.0 in /usr/local/lib/python3.10/dist-packages (from gymnasium[box2d]) (4.12.2)\n",
            "Requirement already satisfied: farama-notifications>=0.0.1 in /usr/local/lib/python3.10/dist-packages (from gymnasium[box2d]) (0.0.4)\n",
            "Collecting box2d-py==2.3.5 (from gymnasium[box2d])\n",
            "  Downloading box2d-py-2.3.5.tar.gz (374 kB)\n",
            "\u001b[2K     \u001b[90m━━━━━━━━━━━━━━━━━━━━━━━━━━━━━━━━━━━━━━━━\u001b[0m \u001b[32m374.4/374.4 kB\u001b[0m \u001b[31m6.3 MB/s\u001b[0m eta \u001b[36m0:00:00\u001b[0m\n",
            "\u001b[?25h  Preparing metadata (setup.py) ... \u001b[?25l\u001b[?25hdone\n",
            "Requirement already satisfied: pygame>=2.1.3 in /usr/local/lib/python3.10/dist-packages (from gymnasium[box2d]) (2.5.2)\n",
            "Collecting swig==4.* (from gymnasium[box2d])\n",
            "  Downloading swig-4.2.1-py2.py3-none-manylinux_2_5_x86_64.manylinux1_x86_64.whl (1.9 MB)\n",
            "\u001b[2K     \u001b[90m━━━━━━━━━━━━━━━━━━━━━━━━━━━━━━━━━━━━━━━━\u001b[0m \u001b[32m1.9/1.9 MB\u001b[0m \u001b[31m45.4 MB/s\u001b[0m eta \u001b[36m0:00:00\u001b[0m\n",
            "\u001b[?25hBuilding wheels for collected packages: box2d-py\n",
            "  Building wheel for box2d-py (setup.py) ... \u001b[?25l\u001b[?25hdone\n",
            "  Created wheel for box2d-py: filename=box2d_py-2.3.5-cp310-cp310-linux_x86_64.whl size=2349111 sha256=be4b6fb88f17252952cb90f9e0175f2edd8b5c4174b490f56f223dfb022a9fde\n",
            "  Stored in directory: /root/.cache/pip/wheels/db/8f/6a/eaaadf056fba10a98d986f6dce954e6201ba3126926fc5ad9e\n",
            "Successfully built box2d-py\n",
            "Installing collected packages: swig, box2d-py\n",
            "Successfully installed box2d-py-2.3.5 swig-4.2.1\n"
          ]
        }
      ],
      "source": [
        "!pip install gymnasium\n",
        "!pip install \"gymnasium[atari, accept-rom-license]\"\n",
        "!apt-get install -y swig\n",
        "!pip install gymnasium[box2d]"
      ]
    },
    {
      "cell_type": "markdown",
      "metadata": {
        "id": "brqiMN3UW9T9"
      },
      "source": [
        "### Importing the libraries"
      ]
    },
    {
      "cell_type": "code",
      "execution_count": null,
      "metadata": {
        "id": "mZaKXP_aMl9O"
      },
      "outputs": [],
      "source": [
        "import os\n",
        "import random\n",
        "import numpy as np\n",
        "import torch\n",
        "import torch.nn as nn\n",
        "import torch.optim as optim\n",
        "import torch.nn.functional as F\n",
        "import torch.autograd as autograd\n",
        "from torch.autograd import Variable\n",
        "from collections import deque, namedtuple"
      ]
    },
    {
      "cell_type": "markdown",
      "metadata": {
        "id": "EzlDKXvkXzGI"
      },
      "source": [
        "## Part 1 - Building the AI"
      ]
    },
    {
      "cell_type": "markdown",
      "metadata": {
        "id": "UtG6Zc83YYy3"
      },
      "source": [
        "### Creating the architecture of the Neural Network"
      ]
    },
    {
      "cell_type": "code",
      "source": [
        "class Network(nn.Module):\n",
        "    def __init__(self, state_size, action_size, seed = 42):\n",
        "        super(Network, self).__init__()\n",
        "        self.seed = torch.manual_seed(seed)\n",
        "        self.fc1 = nn.Linear(state_size, 64)\n",
        "        self.fc2 = nn.Linear(64, 64)\n",
        "        self.fc3 = nn.Linear(64, action_size)\n",
        "\n",
        "    def forward(self, state):\n",
        "        x = self.fc1(state)\n",
        "        x = F.relu(x)\n",
        "        x = self.fc2(x)\n",
        "        x = F.relu(x)\n",
        "        x = self.fc3(x)\n",
        "        return x\n"
      ],
      "metadata": {
        "id": "YsCO-E1IgpAJ"
      },
      "execution_count": null,
      "outputs": []
    },
    {
      "cell_type": "markdown",
      "metadata": {
        "id": "UxVrBnFWZKb1"
      },
      "source": [
        "## Part 2 - Training the AI"
      ]
    },
    {
      "cell_type": "markdown",
      "metadata": {
        "id": "T364fz9qZb2j"
      },
      "source": [
        "### Setting up the environment"
      ]
    },
    {
      "cell_type": "code",
      "source": [
        "import gymnasium as gym\n",
        "env = gym.make('LunarLander-v2')\n",
        "state_shape = env.observation_space.shape\n",
        "state_size = env.observation_space.shape[0]\n",
        "number_actions = env.action_space.n\n",
        "print(\"State shape: \",  state_shape)\n",
        "print(\"State size: \", state_size)\n",
        "print(\"Number of actions: \", number_actions)"
      ],
      "metadata": {
        "colab": {
          "base_uri": "https://localhost:8080/"
        },
        "id": "At_JoNyRjlPr",
        "outputId": "61b12a24-e822-4373-904e-f6d3d89bb96f"
      },
      "execution_count": null,
      "outputs": [
        {
          "output_type": "stream",
          "name": "stdout",
          "text": [
            "State shape:  (8,)\n",
            "State size:  8\n",
            "Number of actions:  4\n"
          ]
        }
      ]
    },
    {
      "cell_type": "markdown",
      "metadata": {
        "id": "c_dZmOIvZgj-"
      },
      "source": [
        "### Initializing the hyperparameters"
      ]
    },
    {
      "cell_type": "code",
      "source": [
        "learning_rate = 5e-4\n",
        "minibatch_size = 100\n",
        "discount_factor = .99\n",
        "replay_buffer_size = int(1e5)\n",
        "interpolation_parameter = 0.001"
      ],
      "metadata": {
        "id": "OdnYjiRgk8g9"
      },
      "execution_count": null,
      "outputs": []
    },
    {
      "cell_type": "markdown",
      "metadata": {
        "id": "8hD_Vs-bYnip"
      },
      "source": [
        "### Implementing Experience Replay"
      ]
    },
    {
      "cell_type": "code",
      "source": [
        "class ReplayMemory(object):\n",
        "    def __init__(self, capacity):\n",
        "        self.device = torch.device(\"cuda:0\" if torch.cuda.is_available() else \"cpu\")\n",
        "        self.capacity = capacity\n",
        "        self.memory = []\n",
        "\n",
        "    def push(self, event):\n",
        "        self.memory.append(event)\n",
        "        if len(self.memory) > self.capacity:\n",
        "            del self.memory[0]\n",
        "\n",
        "    def sample(self, batch_size):\n",
        "        experiences = random.sample(self.memory, k = batch_size)\n",
        "        states = torch.from_numpy(np.vstack([e[0] for e in experiences if e is not None])).float().to(self.device)\n",
        "        actions = torch.from_numpy(np.vstack([e[1] for e in experiences if e is not None])).long().to(self.device)\n",
        "        rewards = torch.from_numpy(np.vstack([e[2] for e in experiences if e is not None])).float().to(self.device)\n",
        "        next_states = torch.from_numpy(np.vstack([e[3] for e in experiences if e is not None])).float().to(self.device)\n",
        "        dones = torch.from_numpy(np.vstack([e[4] for e in experiences if e is not None]).astype(np.uint8)).float().to(self.device)\n",
        "        return states, next_states, actions, rewards, dones\n"
      ],
      "metadata": {
        "id": "DMx9FvgZmecP"
      },
      "execution_count": null,
      "outputs": []
    },
    {
      "cell_type": "markdown",
      "metadata": {
        "id": "JmEkbFbUY6Jt"
      },
      "source": [
        "### Implementing the DQN class"
      ]
    },
    {
      "cell_type": "code",
      "source": [
        "class Agent():\n",
        "\n",
        "  def __init__(self, state_size, action_size):\n",
        "    self.device = torch.device(\"cuda:0\" if torch.cuda.is_available() else \"cpu\")\n",
        "    self.state_size = state_size\n",
        "    self.action_size = action_size\n",
        "    self.local_qnetwork = Network(state_size, action_size).to(self.device)\n",
        "    self.target_qnetwork = Network(state_size, action_size).to(self.device)\n",
        "    self.optimizer = optim.Adam(self.local_qnetwork.parameters(), lr = learning_rate)\n",
        "    self.memory = ReplayMemory(replay_buffer_size)\n",
        "    self.t_step = 0\n",
        "\n",
        "  def step(self, state, action, reward, next_state, done):\n",
        "      self.memory.push((state, action, reward, next_state, done))\n",
        "      self.t_step = (self.t_step + 1) % 4\n",
        "      if self.t_step == 0:\n",
        "        if len(self.memory.memory) > minibatch_size:\n",
        "          experiences = self.memory.sample(minibatch_size)\n",
        "          self.learn(experiences, discount_factor)\n",
        "\n",
        "  def act(self, state, epsilon = 0.):\n",
        "      state = torch.from_numpy(state).float().unsqueeze(0).to(self.device)\n",
        "      self.local_qnetwork.eval()\n",
        "      with torch.no_grad():\n",
        "        action_values = self.local_qnetwork(state)\n",
        "      self.local_qnetwork.train()\n",
        "      if random.random() > epsilon:\n",
        "        return np.argmax(action_values.cpu().data.numpy())\n",
        "      else:\n",
        "        return random.choice(np.arange(self.action_size))\n",
        "\n",
        "  def learn(self, experiences, discount_factor):\n",
        "      states, next_states, actions, rewards, dones = experiences\n",
        "      next_q_targets = self.target_qnetwork(next_states).detach().max(1)[0].unsqueeze(1)\n",
        "      q_targets = rewards + (discount_factor * next_q_targets * (1 - dones))\n",
        "      q_expected = self.local_qnetwork(states).gather(1, actions)\n",
        "      loss = F.mse_loss(q_expected, q_targets)\n",
        "      self.optimizer.zero_grad()\n",
        "      loss.backward()\n",
        "      self.optimizer.step()\n",
        "      self.soft_update(self.local_qnetwork, self.target_qnetwork, interpolation_parameter)\n",
        "\n",
        "  def soft_update(self, local_model, target_model, interpolation_parameter):\n",
        "      for target_param, local_param in zip(target_model.parameters(), local_model.parameters()):\n",
        "        target_param.data.copy_(interpolation_parameter * local_param.data + (1.0 - interpolation_parameter) * target_param.data)\n"
      ],
      "metadata": {
        "id": "--AZ5bWkqTH7"
      },
      "execution_count": null,
      "outputs": []
    },
    {
      "cell_type": "markdown",
      "metadata": {
        "id": "o1tZElccZmf6"
      },
      "source": [
        "### Initializing the DQN agent"
      ]
    },
    {
      "cell_type": "code",
      "source": [
        "agent = Agent(state_size, number_actions)"
      ],
      "metadata": {
        "id": "b_GJmtNuPn2o"
      },
      "execution_count": null,
      "outputs": []
    },
    {
      "cell_type": "markdown",
      "metadata": {
        "id": "E8v0PtUfaVQp"
      },
      "source": [
        "### Training the DQN agent"
      ]
    },
    {
      "cell_type": "code",
      "source": [
        "number_episodes = 2000\n",
        "maximum_number_timesteps_per_episode = 1000\n",
        "epsilon_starting_value = 1.0\n",
        "epsilon_ending_value = .01\n",
        "epsilon_decay_value = .995\n",
        "epsilon = epsilon_starting_value\n",
        "scores_on_100_episodes = deque(maxlen = 100)\n",
        "\n",
        "for episode in range(1, number_episodes + 1):\n",
        "  state, _ = env.reset()\n",
        "  score = 0\n",
        "  for t in range(maximum_number_timesteps_per_episode + 1):\n",
        "    action = agent.act(state, epsilon)\n",
        "    next_state, reward, done, _, _ = env.step(action)\n",
        "    agent.step(state, action, reward, next_state, done)\n",
        "    state = next_state\n",
        "    score += reward\n",
        "    if done:\n",
        "      break\n",
        "\n",
        "  scores_on_100_episodes.append(score)\n",
        "  epsilon = max(epsilon_ending_value, epsilon * epsilon_decay_value)\n",
        "  print('\\rEpisode {}\\tAverage Score: {:.2f}'.format(episode, np.mean(scores_on_100_episodes)), end=\"\")\n",
        "  if episode % 100 == 0:\n",
        "    print('\\rEpisode {}\\tAverage Score: {:.2f}'.format(episode, np.mean(scores_on_100_episodes)))\n",
        "  if np.mean(scores_on_100_episodes) >= 200.0:\n",
        "    print('\\nEnvironment solved in {:d} episodes!\\tAverage Score: {:.2f}'.format(episode - 100, np.mean(scores_on_100_episodes)))\n",
        "    torch.save(agent.local_qnetwork.state_dict(), 'checkpoint.pth')\n",
        "    break\n"
      ],
      "metadata": {
        "colab": {
          "base_uri": "https://localhost:8080/"
        },
        "id": "lKWavEaUQspo",
        "outputId": "e8bb9b15-2a2f-4851-8e64-37f8b726f810"
      },
      "execution_count": null,
      "outputs": [
        {
          "output_type": "stream",
          "name": "stdout",
          "text": [
            "Episode 100\tAverage Score: -177.54\n",
            "Episode 200\tAverage Score: -126.94\n",
            "Episode 300\tAverage Score: -41.11\n",
            "Episode 400\tAverage Score: -18.49\n",
            "Episode 500\tAverage Score: 106.50\n",
            "Episode 600\tAverage Score: 175.35\n",
            "Episode 700\tAverage Score: 172.03\n",
            "Episode 766\tAverage Score: 200.13\n",
            "Environment solved in 666 episodes!\tAverage Score: 200.13\n"
          ]
        }
      ]
    },
    {
      "cell_type": "markdown",
      "metadata": {
        "id": "O8CNwdOTcCoP"
      },
      "source": [
        "## Part 3 - Visualizing the results"
      ]
    },
    {
      "cell_type": "code",
      "execution_count": null,
      "metadata": {
        "id": "cb9nVvU2Okhk",
        "colab": {
          "base_uri": "https://localhost:8080/",
          "height": 459
        },
        "outputId": "a53e9219-c2a2-476f-bb8a-02dfe07bb4f4"
      },
      "outputs": [
        {
          "output_type": "stream",
          "name": "stderr",
          "text": [
            "WARNING:imageio_ffmpeg:IMAGEIO FFMPEG_WRITER WARNING: input image is not divisible by macro_block_size=16, resizing from (600, 400) to (608, 400) to ensure video compatibility with most codecs and players. To prevent resizing, make your input image divisible by the macro_block_size or set the macro_block_size to 1 (risking incompatibility).\n"
          ]
        },
        {
          "output_type": "display_data",
          "data": {
            "text/plain": [
              "<IPython.core.display.HTML object>"
            ],
            "text/html": [
              "<video alt=\"test\" autoplay\n",
              "                loop controls style=\"height: 400px;\">\n",
              "                <source src=\"data:video/mp4;base64,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\" type=\"video/mp4\" />\n",
              "             </video>"
            ]
          },
          "metadata": {}
        }
      ],
      "source": [
        "import glob\n",
        "import io\n",
        "import base64\n",
        "import imageio\n",
        "from IPython.display import HTML, display\n",
        "from gym.wrappers.monitoring.video_recorder import VideoRecorder\n",
        "\n",
        "def show_video_of_model(agent, env_name):\n",
        "    env = gym.make(env_name, render_mode='rgb_array')\n",
        "    state, _ = env.reset()\n",
        "    done = False\n",
        "    frames = []\n",
        "    while not done:\n",
        "        frame = env.render()\n",
        "        frames.append(frame)\n",
        "        action = agent.act(state)\n",
        "        state, reward, done, _, _ = env.step(action.item())\n",
        "    env.close()\n",
        "    imageio.mimsave('video.mp4', frames, fps=30)\n",
        "\n",
        "show_video_of_model(agent, 'LunarLander-v2')\n",
        "\n",
        "def show_video():\n",
        "    mp4list = glob.glob('*.mp4')\n",
        "    if len(mp4list) > 0:\n",
        "        mp4 = mp4list[0]\n",
        "        video = io.open(mp4, 'r+b').read()\n",
        "        encoded = base64.b64encode(video)\n",
        "        display(HTML(data='''<video alt=\"test\" autoplay\n",
        "                loop controls style=\"height: 400px;\">\n",
        "                <source src=\"data:video/mp4;base64,{0}\" type=\"video/mp4\" />\n",
        "             </video>'''.format(encoded.decode('ascii'))))\n",
        "    else:\n",
        "        print(\"Could not find video\")\n",
        "\n",
        "show_video()"
      ]
    },
    {
      "cell_type": "code",
      "source": [],
      "metadata": {
        "id": "Qcn7lNiWcy1t"
      },
      "execution_count": null,
      "outputs": []
    },
    {
      "cell_type": "code",
      "source": [],
      "metadata": {
        "id": "S1l1tziYaGwZ"
      },
      "execution_count": null,
      "outputs": []
    }
  ],
  "metadata": {
    "colab": {
      "provenance": [],
      "include_colab_link": true
    },
    "kernelspec": {
      "display_name": "Python 3",
      "name": "python3"
    },
    "language_info": {
      "name": "python"
    }
  },
  "nbformat": 4,
  "nbformat_minor": 0
}